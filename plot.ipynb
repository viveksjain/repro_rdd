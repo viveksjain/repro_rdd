{
 "cells": [
  {
   "cell_type": "code",
   "execution_count": null,
   "metadata": {
    "collapsed": false
   },
   "outputs": [],
   "source": [
    "from plotly.offline import download_plotlyjs, init_notebook_mode, iplot\n",
    "from plotly.graph_objs import *\n",
    "import numpy as np\n",
    "\n",
    "init_notebook_mode()"
   ]
  },
  {
   "cell_type": "code",
   "execution_count": null,
   "metadata": {
    "collapsed": false
   },
   "outputs": [],
   "source": [
    "def get_result(path):\n",
    "    with open('timings/' + path) as f:\n",
    "        results = [float(line.rstrip('\\n'))/1E9 for line in f]\n",
    "    return results[0], np.mean(results[1:])\n",
    "def get_results(size):\n",
    "    return get_result('%d/hadooplr.txt' % size), get_result('%d/sparklr.txt' % size)\n",
    "\n",
    "x = [25, 100]\n",
    "results = [get_results(size) for size in x]\n",
    "print results"
   ]
  },
  {
   "cell_type": "code",
   "execution_count": null,
   "metadata": {
    "collapsed": false
   },
   "outputs": [],
   "source": [
    "data = [Bar(x=x, y=map(lambda r: r[i-1][1], results), name='Hadoop' if i == 1 else 'Spark') for i in range(2)]\n",
    "layout = Layout(xaxis=dict(title='Number of machines'), yaxis=dict(title='Iteration time after first (s)'))\n",
    "iplot(Figure(data=data, layout=layout))"
   ]
  },
  {
   "cell_type": "code",
   "execution_count": null,
   "metadata": {
    "collapsed": false
   },
   "outputs": [],
   "source": [
    "data = [Bar(x=x, y=map(lambda r: r[1][1], results), name='Spark')]\n",
    "layout = Layout(xaxis=dict(title='Number of machines'), yaxis=dict(title='Iteration time after first (s)'))\n",
    "iplot(Figure(data=data, layout=layout))"
   ]
  },
  {
   "cell_type": "code",
   "execution_count": null,
   "metadata": {
    "collapsed": false
   },
   "outputs": [],
   "source": [
    "data = [Bar(x=['Hadoop', 'Spark'], y=map(lambda r: r[i], results[-1]), name='First iteration' if i == 0 else 'Later iterations') for i in range(2)]\n",
    "layout = Layout(xaxis=dict(title='Logistic Regression'), yaxis=dict(title='Iteration time (s)'))\n",
    "iplot(Figure(data=data, layout=layout))"
   ]
  }
 ],
 "metadata": {
  "kernelspec": {
   "display_name": "Python 2",
   "language": "python",
   "name": "python2"
  },
  "language_info": {
   "codemirror_mode": {
    "name": "ipython",
    "version": 2
   },
   "file_extension": ".py",
   "mimetype": "text/x-python",
   "name": "python",
   "nbconvert_exporter": "python",
   "pygments_lexer": "ipython2",
   "version": "2.7.10"
  }
 },
 "nbformat": 4,
 "nbformat_minor": 0
}
